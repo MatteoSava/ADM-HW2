{
 "cells": [
  {
   "cell_type": "markdown",
   "metadata": {},
   "source": [
    "# [TQ2] - You are given the recursive function splitSwap, which accepts an array a, an index i, and a length n."
   ]
  },
  {
   "cell_type": "code",
   "execution_count": 2,
   "metadata": {},
   "outputs": [
    {
     "data": {
      "text/plain": [
       "' \\nfunction splitSwap(a, l, n):\\n  if n <= 1:\\n    return\\n  splitSwap(a, l, n/2)\\n  splitSwap(a, l+ n /2, n/2)\\n  swapList(a, l, n) \\n'"
      ]
     },
     "execution_count": 2,
     "metadata": {},
     "output_type": "execute_result"
    }
   ],
   "source": [
    "''' \n",
    "function splitSwap(a, l, n):\n",
    "  if n <= 1:\n",
    "    return\n",
    "  splitSwap(a, l, n/2)\n",
    "  splitSwap(a, l+ n /2, n/2)\n",
    "  swapList(a, l, n) \n",
    "'''"
   ]
  },
  {
   "cell_type": "markdown",
   "metadata": {},
   "source": [
    "### The subroutine swapList is described here:"
   ]
  },
  {
   "cell_type": "code",
   "execution_count": 3,
   "metadata": {},
   "outputs": [
    {
     "data": {
      "text/plain": [
       "' \\nfunction swapList(a, l, n):\\n  for i = 0 to n/2:\\n    tmp = a[l + i]\\n    a[l + i] = a[l + n/2 + i]\\n    a[l + n/2 + i] = tmp \\n'"
      ]
     },
     "execution_count": 3,
     "metadata": {},
     "output_type": "execute_result"
    }
   ],
   "source": [
    "''' \n",
    "function swapList(a, l, n):\n",
    "  for i = 0 to n/2:\n",
    "    tmp = a[l + i]\n",
    "    a[l + i] = a[l + n/2 + i]\n",
    "    a[l + n/2 + i] = tmp \n",
    "'''"
   ]
  },
  {
   "cell_type": "markdown",
   "metadata": {},
   "source": [
    "## 1) How much running time does it take to execute splitSwap(a, 0, n)? (We want a Big O analysis.)\n"
   ]
  },
  {
   "cell_type": "markdown",
   "metadata": {},
   "source": [
    "The main function **splitSwap(a, l, n)** is a recursive function which includes a subroutine **swapList(a, l, n)**, this subroutine takes as input an array $a$, an index $l$ and a length $n$.\n",
    "It performs a loop composed of $n/2$ cycles, each cycle performs steps with a complexity of **$O(1)$**.\n",
    "\n",
    "The total complexity of this subroutine, given the fact it is composed of $n/2$ steps, is then calculated as:\n",
    "\n",
    "**$O(n/2) = O(n)$**.\n",
    "\n",
    "Analysing the main function **splitSwap(a, l, n)**, we observe it is a recursive function which return in the case of $n=1$.\n",
    "\n",
    "In the case of $n>1$ it calls recursively itself two times as **splitSwap(a, l, n/2)** and **splitSwap(a, l+ n /2, n/2)**, it also execute the subroutine **swapList(a, l, n)**.\n",
    "\n",
    "We have two recursion and we can calculate the equation of the recurrence as: **$T(n) = 2*T(n/2) + O(n)$**.\n",
    "\n",
    "We can now, apply the second case of the Master Theorem, we obtain an overall complexity of **$O(log2(n) * n)$**.\n",
    "\n"
   ]
  },
  {
   "cell_type": "markdown",
   "metadata": {},
   "source": [
    "## 2) What does this algorithm do? Is it optimal? Describe the mechanism of the algorithm in details, we do not want to know only its final result."
   ]
  },
  {
   "cell_type": "markdown",
   "metadata": {},
   "source": [
    "\n",
    "The function **splitSwap(a, l, n)** is a recursive function, it takes as parameters an array **a**, an index **i** and a lenght **n**.\n",
    "It calls itself recursively two time as  **splitSwap(a, l, n/2)** and **splitSwap(a, l+ n /2, n/2)**, and then execute the subroutine **swapList(a, l, n)**.\n",
    "\n",
    "The subroutine **swapList(a, l, n)**, perform a loop in the range 0, $n/2$; swapping the element of the array with index $l+i$ with the element of the array with index $l + n/2 + i$.\n",
    "\n",
    "The base case of the **splitSwap(a, l, n)** is $n=1$, the function returns when the recursion reaches n=1, after performing an halving operation on n at each step.\n",
    "\n",
    "\n",
    "The Algorithm is not optimal because it can be further simplified to be linear with a complexity of **$O(n)$**."
   ]
  },
  {
   "cell_type": "markdown",
   "metadata": {},
   "source": [
    "### HINT: Consider the scenario where len(a) and n are numbers that are a power of 2."
   ]
  }
 ],
 "metadata": {
  "interpreter": {
   "hash": "c6e4e9f98eb68ad3b7c296f83d20e6de614cb42e90992a65aa266555a3137d0d"
  },
  "kernelspec": {
   "display_name": "Python 3.9.7 64-bit ('base': conda)",
   "name": "python3"
  },
  "language_info": {
   "codemirror_mode": {
    "name": "ipython",
    "version": 3
   },
   "file_extension": ".py",
   "mimetype": "text/x-python",
   "name": "python",
   "nbconvert_exporter": "python",
   "pygments_lexer": "ipython3",
   "version": "3.9.7"
  },
  "orig_nbformat": 4
 },
 "nbformat": 4,
 "nbformat_minor": 2
}
