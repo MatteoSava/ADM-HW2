{
 "cells": [
  {
   "cell_type": "markdown",
   "metadata": {},
   "source": [
    "# RQ4"
   ]
  },
  {
   "cell_type": "code",
   "execution_count": 3,
   "metadata": {},
   "outputs": [],
   "source": [
    "import pandas as pd"
   ]
  },
  {
   "cell_type": "markdown",
   "metadata": {},
   "source": [
    "## Top Languages\n",
    "First, we want to check in what languages most of the reviews are written in. We can do this by grouping the dataset by its `language` column, then by counting how many unique elements (languages) there are by using the `size()` method, and finally by sorting it and slicing the top 3."
   ]
  },
  {
   "cell_type": "code",
   "execution_count": 222,
   "metadata": {},
   "outputs": [],
   "source": [
    "def count_languages(df):\n",
    "    \"\"\"\n",
    "    This functions counts how many reviews were written in each of the languages in the dataset\n",
    "    and returns a list of the occurrences of each language\n",
    "    \n",
    "    Arguments\n",
    "        df : pandas dataframe\n",
    "    Returns\n",
    "        list of tuples (language, num_of_reviews)\n",
    "    \"\"\"\n",
    "    \n",
    "    return([(lang, len(frame)) for lang, frame in df.groupby('language')['review_id']])\n",
    "\n",
    "def sort_count(count, n = 3, reverse = True):\n",
    "    \"\"\"\n",
    "    This functions sorts and slices a list of tuples\n",
    "    e.g. [(a, 1), (b, 3), (c, 2)] —> [(b, 3), (c, 2), (a, 1)]\n",
    "    \n",
    "    Arguments\n",
    "        count : list of tuples\n",
    "    Returns\n",
    "        sorted and sliced list of tuples\n",
    "    \"\"\"\n",
    "    \n",
    "    top = sorted(count, key = lambda x: x[1], reverse = reverse)\n",
    "    \n",
    "    return(top[:n])\n",
    "\n",
    "def print_top_languages(top_languages):\n",
    "    \"\"\"\n",
    "    This functions prints and formats the top languages\n",
    "    and their respective number of reviews\n",
    "    \n",
    "    Arguments\n",
    "        top_languages : list of tuples (e.g [('german', 80), ('french', 70), ('italian', 60)])\n",
    "    Returns\n",
    "        void\n",
    "    \"\"\"\n",
    "    \n",
    "    for lang, num in top_languages:\n",
    "            print(f\"{lang.capitalize()} with {num} reviews\")"
   ]
  },
  {
   "cell_type": "code",
   "execution_count": 225,
   "metadata": {},
   "outputs": [],
   "source": [
    "df = pd.read_csv(\"data/steam_reviews.csv\", nrows = 1000000, header = 'infer')\n",
    "\n",
    "top_languages = sort_count(count_languages(df))"
   ]
  },
  {
   "cell_type": "markdown",
   "metadata": {},
   "source": [
    "### The most common languages are"
   ]
  },
  {
   "cell_type": "code",
   "execution_count": 226,
   "metadata": {},
   "outputs": [
    {
     "name": "stdout",
     "output_type": "stream",
     "text": [
      "English with 392312 reviews\n",
      "Russian with 185744 reviews\n",
      "Schinese with 125667 reviews\n"
     ]
    }
   ],
   "source": [
    "print_top_languages(top_languages)"
   ]
  },
  {
   "cell_type": "markdown",
   "metadata": {},
   "source": [
    "### Now let's filter the dataset so it only includes reviews in these languages"
   ]
  },
  {
   "cell_type": "code",
   "execution_count": 228,
   "metadata": {},
   "outputs": [],
   "source": [
    "def filter_by_language(df, languages):\n",
    "    \"\"\"\n",
    "    This function filters the dataframe so it only contains reviews\n",
    "    written in certain languages, and prints the percentage among these\n",
    "    of those which were considered 'Funny' \n",
    "    and of those which were considered 'Helpful'\n",
    "    \n",
    "    Arguments:\n",
    "        df        : pandas dataframe\n",
    "        languages : list of languages (e.g ['russian', 'english', 'turkish'])\n",
    "    Returns:\n",
    "        f_df      : filtered pandas dataframe\n",
    "    \"\"\"\n",
    "    \n",
    "    f_df = df[df['language'].isin(languages)]\n",
    "    \n",
    "    for lang in languages:\n",
    "        \n",
    "        f_df_lang = f_df[f_df['language'] == lang]\n",
    "        \n",
    "        votes_funny = f_df_lang[f_df_lang['votes_funny'] > 0]['votes_funny'].value_counts().sum()  \n",
    "        percent_funny = 100 * votes_funny / f_df_lang['votes_funny'].count()\n",
    "        \n",
    "        print(f\"{percent_funny:.0f}% of the {lang.capitalize()} reviews were considered 'Funny'\")\n",
    "\n",
    "        votes_helpful = f_df_lang[f_df_lang['votes_helpful'] > 0]['votes_helpful'].value_counts().sum()\n",
    "        percent_helpful = 100 * votes_helpful / f_df_lang['votes_helpful'].count()\n",
    "        \n",
    "        print(f\"{percent_helpful:.0f}% of the {lang.capitalize()} reviews were considered 'Helpful'\")\n",
    "    \n",
    "    return f_df"
   ]
  },
  {
   "cell_type": "markdown",
   "metadata": {},
   "source": [
    "### How did other users consider these reviews: Funny or Helpful?"
   ]
  },
  {
   "cell_type": "code",
   "execution_count": 229,
   "metadata": {},
   "outputs": [
    {
     "name": "stdout",
     "output_type": "stream",
     "text": [
      "9% of the English reviews were considered 'Funny'\n",
      "25% of the English reviews were considered 'Helpful'\n",
      "12% of the Russian reviews were considered 'Funny'\n",
      "31% of the Russian reviews were considered 'Helpful'\n",
      "10% of the Schinese reviews were considered 'Funny'\n",
      "23% of the Schinese reviews were considered 'Helpful'\n"
     ]
    }
   ],
   "source": [
    "filtered_df = filter_by_language(df, [lang for lang, _ in top_languages])"
   ]
  },
  {
   "cell_type": "markdown",
   "metadata": {},
   "source": [
    "a few comments about the results when we use the whole dataset"
   ]
  }
 ],
 "metadata": {
  "instance_type": "ml.t3.xlarge",
  "kernelspec": {
   "display_name": "Python 3 (ipykernel)",
   "language": "python",
   "name": "python3"
  },
  "language_info": {
   "codemirror_mode": {
    "name": "ipython",
    "version": 3
   },
   "file_extension": ".py",
   "mimetype": "text/x-python",
   "name": "python",
   "nbconvert_exporter": "python",
   "pygments_lexer": "ipython3",
   "version": "3.7.11"
  }
 },
 "nbformat": 4,
 "nbformat_minor": 4
}
