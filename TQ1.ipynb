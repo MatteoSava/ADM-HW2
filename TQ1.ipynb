{
 "cells": [
  {
   "cell_type": "markdown",
   "id": "ba855189",
   "metadata": {},
   "source": [
    "# TQ1"
   ]
  },
  {
   "cell_type": "code",
   "execution_count": null,
   "id": "5a7474b3",
   "metadata": {},
   "outputs": [],
   "source": [
    "\"\"\"\n",
    "\n",
    "Input: \n",
    "    A: array of length n\n",
    "    k: integers between 1 and n\n",
    "    \n",
    "function alg(A, k):\n",
    "  s <-- a random element of A\n",
    "  set L = [all the elements of A with value <= s]\n",
    "  set R = [all the elements of A with value > s]\n",
    "  r = len(L)\n",
    "  if k == r:\n",
    "    return s\n",
    "  else if k < r:  \n",
    "    return alg(L, k)\n",
    "  else:\n",
    "    return alg(R, k - r)\n",
    "    \n",
    "    \n",
    "\"\"\""
   ]
  },
  {
   "cell_type": "markdown",
   "id": "2cc83659",
   "metadata": {},
   "source": [
    "## 1. What does the algorithm compute?"
   ]
  },
  {
   "cell_type": "markdown",
   "id": "999d5854",
   "metadata": {},
   "source": [
    "#### The algorithm is of a selection sort. It sorts the input array \"A\" using the recursion function \"alg(A,k)\" . For each integer value of k it returns the element at the \"k\"th integer position of sorted array A. Therefore by iterating k through the length of A we are performing the selection sort where after every step we get the elements of the sorted array in ascending order.So here in our algorithm if we are able to store the return value \"s\" into an array. After all the iterations of k we get a sorted array of A\n",
    "\n",
    "Lets consider an example\n",
    "\n",
    "let A = [1,5,10,2,4,7] be an array of length 6\n",
    "so here n=6\n",
    "\n",
    "lets iterate through k (# k shows integers between 1 and n )\n",
    "\n",
    "for k in range(0,n):\n",
    "\n",
    "    B[k]=alg(A,k)    (# B is the sorted array)\n",
    "    \n",
    "\n",
    "After the first iteration we get Iteration 1: B[0] = 1  Similarly,\n",
    "\n",
    "Iteration 2: B[1] = 2\n",
    "\n",
    "Iteration 3: B[2] = 4\n",
    "\n",
    "Iteration 4: B[3] = 5\n",
    "\n",
    "Iteration 5: B[4] = 7\n",
    "\n",
    "Iteration 6: B[5] = 10\n",
    "\n",
    "Now when we print B we get the sorted array [1,2,4,5,7,10] which is sorted array A.\n",
    "    "
   ]
  },
  {
   "cell_type": "markdown",
   "id": "96507984",
   "metadata": {},
   "source": [
    "## 2. What is asymptotically (i.e., we are asking for big-O complexity) the running time of the algorithm in the worst case, as a function of n?"
   ]
  },
  {
   "cell_type": "markdown",
   "id": "264eb027",
   "metadata": {},
   "source": [
    "The time-complexity of the given algorithm in its worst case is:- O(n^2).\n",
    " \n",
    "You only know which element is the minimum after iterate till the end of the non-sorted array. Even if the array is sorted(!) you have to iterate till the end. Then you know for sure you found the minimum to put it on the right place \n",
    "\n",
    "So first iteration takes n steps to find the element in the \"K\"th position of sorted array. The second iteration takes n-1 steps to find the same ... The last iteration takes 1 step to find the last element of sorted array.\n",
    "\n",
    "After these steps you have a sorted array (even it was sorted before). Selection sort does not check if the array is already sorted by a linear-time algorithm. Selection sort repeatedly searches the minimum. That's the way how selection sort works.\n",
    "\n",
    "When you repeatedly search the minimum it takes n+(n-1)+...+1 so you get (n(n+1))/2 = (n²+n)/2 which is in O(n²)\n",
    "\n",
    "\n",
    "So the time complexity of the algorithm in its worst case can be computed as O(n*n) = O(n^2)"
   ]
  },
  {
   "cell_type": "markdown",
   "id": "ea74d41d",
   "metadata": {},
   "source": [
    "## 3. What is asymptotically the running time of the algorithm in the best case?"
   ]
  },
  {
   "cell_type": "markdown",
   "id": "4dd569ee",
   "metadata": {},
   "source": [
    " The time-complexity of the given algorithm in its best case is:- Ω(n^2).\n",
    " \n",
    " In the best case of the algorithm that is when the array is already sorted, selection sort takes the same time of execution.It does not check if the array is already sorted by a linear-time algorithm. Selection sort repeatedly searches the minimum. That's the way how it works.\n",
    "  \n",
    "Therefore the loop in this selection sort algorithm will always make n^2/2 + n/2  iterations regardless of the input. \n",
    "So the time complexity of the algorithm in its best case is also  = Ω(n^2)\n",
    "\n",
    "Disadvantage:\n",
    "We can consider it as a disadvantage of this algorithm that it works with the same time complexity under all cases.\n",
    "It does not check whether an array is sorted before execution"
   ]
  }
 ],
 "metadata": {
  "kernelspec": {
   "display_name": "Python 3",
   "language": "python",
   "name": "python3"
  },
  "language_info": {
   "codemirror_mode": {
    "name": "ipython",
    "version": 3
   },
   "file_extension": ".py",
   "mimetype": "text/x-python",
   "name": "python",
   "nbconvert_exporter": "python",
   "pygments_lexer": "ipython3",
   "version": "3.8.8"
  }
 },
 "nbformat": 4,
 "nbformat_minor": 5
}
