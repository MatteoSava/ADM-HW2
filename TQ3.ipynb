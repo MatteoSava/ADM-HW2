{
 "cells": [
  {
   "cell_type": "markdown",
   "metadata": {},
   "source": [
    "# TQ3"
   ]
  },
  {
   "cell_type": "markdown",
   "metadata": {},
   "source": [
    "# In the knapsack problem we are given n objects and each object i has a weight w_i and a value v_i. We are also given a weight budget W. The problem is to select a set of objects with total weight bounded by W that maximized the sum of their values. The following are three natural heuristics:"
   ]
  },
  {
   "cell_type": "markdown",
   "metadata": {},
   "source": [
    "## Order them in increasing order of weight and then visit them sequentially, adding them to the solution as long as the budget is not exceeded"
   ]
  },
  {
   "cell_type": "markdown",
   "metadata": {},
   "source": [
    "Taken for example an array **$w = [(3,2), (5,5), (7,9)]$** of tuples **$(w_i, v_i)$** of length **$n = 3$**, where **$w_i$** stands for the weight that the objects has, and **$v_i$** its value.\n",
    "\n",
    "According to the heuristic the elements of the list selected where **$[(3,2), (5,5)]$** for a total weight of **$W_t = 3+5=8$** and a total value of **$V_t = 2+5=7$**.\n",
    "\n",
    "However the optimal solution is **$[(3,2), (7,9)]$**, for a total weight of **$W_t = 3+7=10$** and a total value of **$V_t = 2+9=11$**.\n",
    "\n",
    "This counterexample disproves the heuristic.\n",
    "\n",
    "\n",
    "\n",
    "\n",
    "Schematic representation:\n",
    "\n",
    "> W = 10\n",
    "\n",
    "> n = 3\n",
    "\n",
    "> w = [(3,2), (5,5), (7,9)]\n",
    "\n",
    "> Solution according to the heuristic: [(3,2), (5,5)] // W_tot = 3+5=8 // V_tot = 2+5=7\n",
    "\n",
    "> Optimal solution: [(3,2), (7,9)] // W_tot = 3+7=10 // V_tot = 2+9=11"
   ]
  },
  {
   "cell_type": "markdown",
   "metadata": {},
   "source": [
    "## Order them in decreasing order of values, and then visit them sequentially, adding them to the solution if the budget is not exceeded"
   ]
  },
  {
   "cell_type": "markdown",
   "metadata": {},
   "source": [
    "Taken for example an array **$w = [(7,8), (4,6), (3,5)]$** of tuples **$(w_i, v_i)$** of length **$n$**, where **$w_i$** stands for the weight that the objects has, and **$v_i$** its value.\n",
    "\n",
    "According to the heuristic the element of the list selected was **$[(7,8)]$** for a total weight of **$W_t = 7$** and a total value of **$V_t = 8$**.\n",
    "\n",
    "However the optimal solution is **$[(4,6), (3,5)]$**, for a total weight of **$W_t = 4+3=7$** and a total value of **$V_t = 6+5=11$**.\n",
    "\n",
    "This counterexample disproves the heuristic.\n",
    "\n",
    "\n",
    "\n",
    "\n",
    "Schematic representation:\n",
    "\n",
    "> W = 10\n",
    "\n",
    "> n = 3\n",
    "\n",
    "> w = [(7,8), (4,6), (3,5)]\n",
    "\n",
    "> Solution according to the heuristic: [(7,8)] // W_tot = 7 // V_tot = 8\n",
    "\n",
    "> Optimal solution: [(4,6), (3,5)] // W_tot = 4+3=7 // V_tot = 6+5=11"
   ]
  },
  {
   "cell_type": "markdown",
   "metadata": {},
   "source": [
    "### Order them in decreasing relative value (v_i / w_i), and then visit them sequentially, adding them to the solution if the budget is not exceeded"
   ]
  },
  {
   "cell_type": "markdown",
   "metadata": {},
   "source": [
    "Taken for example an array **$w = [(1, 5), (6, 5), (4, 3), (2, 1)]$** of tuples **$(w_i, v_i)$** of length **$n = 4$**, where **$w_i$** stands for the weight that the objects has, and **$v_i$** its value.\n",
    "\n",
    "According to the heuristic the elements of the list selected where **$[(1, 5), (6, 5)]$** for a total weight of **$W_t = 1+6=7$** and a total value of **$V_t = 5+5=10$**.\n",
    "\n",
    "However the optimal solution is **$[(4,6), (3,5)]$**, for a total weight of **$W_t = 1+6+2=9$** and a total value of **$V_t = 5+5+1=11$**.\n",
    "\n",
    "This counterexample disproves the heuristic.\n",
    "\n",
    "\n",
    "\n",
    "\n",
    "Schematic representation:\n",
    "\n",
    "\n",
    "\n",
    "> W = 10\n",
    "\n",
    "> n = 4\n",
    "\n",
    "> w = [(1, 5), (6, 5), (4, 3), (2, 1)] ====> 5/1 = 1.0 ; 5/6 = 0.83 ; 3/4 = 0.75 ; 1/2 = 0.5\n",
    "\n",
    "> Solution according to the heuristic: [(1, 5), (6, 5)] // W_tot = 1+6=7 // V_tot = 5+5=10\n",
    "\n",
    "> Optimal solution: [(1, 5), (6, 5), (2, 1)] // W_tot = 1+6+2=9 // V_tot = 5+5+1=11"
   ]
  },
  {
   "cell_type": "markdown",
   "metadata": {},
   "source": [
    "## For each of the heuristics, provide a counterexample, that is, an example of a problem instance in which the heuristic fails to provide the optimal solution."
   ]
  }
 ],
 "metadata": {
  "interpreter": {
   "hash": "c6e4e9f98eb68ad3b7c296f83d20e6de614cb42e90992a65aa266555a3137d0d"
  },
  "kernelspec": {
   "display_name": "Python 3.9.7 64-bit ('base': conda)",
   "name": "python3"
  },
  "language_info": {
   "codemirror_mode": {
    "name": "ipython",
    "version": 3
   },
   "file_extension": ".py",
   "mimetype": "text/x-python",
   "name": "python",
   "nbconvert_exporter": "python",
   "pygments_lexer": "ipython3",
   "version": "3.9.7"
  },
  "orig_nbformat": 4
 },
 "nbformat": 4,
 "nbformat_minor": 2
}
