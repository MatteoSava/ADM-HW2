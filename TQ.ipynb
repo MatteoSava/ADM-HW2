{
 "cells": [
  {
   "cell_type": "markdown",
   "id": "ba855189",
   "metadata": {},
   "source": [
    "# TQ1"
   ]
  },
  {
   "cell_type": "code",
   "execution_count": null,
   "id": "5a7474b3",
   "metadata": {},
   "outputs": [],
   "source": [
    "\"\"\"\n",
    "\n",
    "Input: \n",
    "    A: array of length n\n",
    "    k: integers between 1 and n\n",
    "    \n",
    "function alg(A, k):\n",
    "  s <-- a random element of A\n",
    "  set L = [all the elements of A with value <= s]\n",
    "  set R = [all the elements of A with value > s]\n",
    "  r = len(L)\n",
    "  if k == r:\n",
    "    return s\n",
    "  else if k < r:  \n",
    "    return alg(L, k)\n",
    "  else:\n",
    "    return alg(R, k - r)\n",
    "    \n",
    "    \n",
    "\"\"\""
   ]
  },
  {
   "cell_type": "markdown",
   "id": "2cc83659",
   "metadata": {},
   "source": [
    "## 1. What does the algorithm compute?"
   ]
  },
  {
   "cell_type": "markdown",
   "id": "999d5854",
   "metadata": {},
   "source": [
    "#### The algorithm is of a selection sort. It sorts the input array \"A\" using the recursion function \"alg(A,k)\" . For each integer value of k it returns the element at the \"k\"th integer position of sorted array A. Therefore by iterating k through the length of A we are performing the selection sort where after every step we get the elements of the sorted array in ascending order.So here in our algorithm if we are able to store the return value \"s\" into an array. After all the iterations of k we get a sorted array of A\n",
    "\n",
    "Lets consider an example\n",
    "\n",
    "let A = [1,5,10,2,4,7] be an array of length 6\n",
    "so here n=6\n",
    "\n",
    "lets iterate through k (# k shows integers between 1 and n )\n",
    "\n",
    "for k in range(0,n):\n",
    "\n",
    "    B[k]=alg(A,k)    (# B is the sorted array)\n",
    "    \n",
    "\n",
    "After the first iteration we get Iteration 1: B[0] = 1  Similarly,\n",
    "\n",
    "Iteration 2: B[1] = 2\n",
    "\n",
    "Iteration 3: B[2] = 4\n",
    "\n",
    "Iteration 4: B[3] = 5\n",
    "\n",
    "Iteration 5: B[4] = 7\n",
    "\n",
    "Iteration 6: B[5] = 10\n",
    "\n",
    "Now when we print B we get the sorted array [1,2,4,5,7,10] which is sorted array A.\n",
    "    "
   ]
  },
  {
   "cell_type": "markdown",
   "id": "96507984",
   "metadata": {},
   "source": [
    "## 2. What is asymptotically (i.e., we are asking for big-O complexity) the running time of the algorithm in the worst case, as a function of n?"
   ]
  },
  {
   "cell_type": "markdown",
   "id": "264eb027",
   "metadata": {},
   "source": [
    "The time-complexity of the given algorithm in its worst case is:- O(n^2).\n",
    " \n",
    "You only know which element is the minimum after iterate till the end of the non-sorted array. Even if the array is sorted(!) you have to iterate till the end. Then you know for sure you found the minimum to put it on the right place \n",
    "\n",
    "So first iteration takes n steps to find the element in the \"K\"th position of sorted array. The second iteration takes n-1 steps to find the same ... The last iteration takes 1 step to find the last element of sorted array.\n",
    "\n",
    "After these steps you have a sorted array (even it was sorted before). Selection sort does not check if the array is already sorted by a linear-time algorithm. Selection sort repeatedly searches the minimum. That's the way how selection sort works.\n",
    "\n",
    "When you repeatedly search the minimum it takes n+(n-1)+...+1 so you get (n(n+1))/2 = (n²+n)/2 which is in O(n²)\n",
    "\n",
    "\n",
    "So the time complexity of the algorithm in its worst case can be computed as O(n*n) = O(n^2)"
   ]
  },
  {
   "cell_type": "markdown",
   "id": "ea74d41d",
   "metadata": {},
   "source": [
    "## 3. What is asymptotically the running time of the algorithm in the best case?"
   ]
  },
  {
   "cell_type": "markdown",
   "id": "4dd569ee",
   "metadata": {},
   "source": [
    " The time-complexity of the given algorithm in its best case is:- Ω(n^2).\n",
    " \n",
    " In the best case of the algorithm that is when the array is already sorted, selection sort takes the same time of execution.It does not check if the array is already sorted by a linear-time algorithm. Selection sort repeatedly searches the minimum. That's the way how it works.\n",
    "  \n",
    "Therefore the loop in this selection sort algorithm will always make n^2/2 + n/2  iterations regardless of the input. \n",
    "So the time complexity of the algorithm in its best case is also  = Ω(n^2)\n",
    "\n",
    "Disadvantage:\n",
    "We can consider it as a disadvantage of this algorithm that it works with the same time complexity under all cases.\n",
    "It does not check whether an array is sorted before execution"
   ]
  },
  {
   "cell_type": "markdown",
   "metadata": {},
   "source": [
    "# [TQ2] - You are given the recursive function splitSwap, which accepts an array a, an index i, and a length n."
   ]
  },
  {
   "cell_type": "code",
   "execution_count": null,
   "metadata": {},
   "outputs": [
    {
     "data": {
      "text/plain": [
       "' \\nfunction splitSwap(a, l, n):\\n  if n <= 1:\\n    return\\n  splitSwap(a, l, n/2)\\n  splitSwap(a, l+ n /2, n/2)\\n  swapList(a, l, n) \\n'"
      ]
     },
     "metadata": {},
     "output_type": "display_data"
    }
   ],
   "source": [
    "''' \n",
    "function splitSwap(a, l, n):\n",
    "  if n <= 1:\n",
    "    return\n",
    "  splitSwap(a, l, n/2)\n",
    "  splitSwap(a, l+ n /2, n/2)\n",
    "  swapList(a, l, n) \n",
    "'''"
   ]
  },
  {
   "cell_type": "markdown",
   "metadata": {},
   "source": [
    "### The subroutine swapList is described here:"
   ]
  },
  {
   "cell_type": "code",
   "execution_count": null,
   "metadata": {},
   "outputs": [
    {
     "data": {
      "text/plain": [
       "' \\nfunction swapList(a, l, n):\\n  for i = 0 to n/2:\\n    tmp = a[l + i]\\n    a[l + i] = a[l + n/2 + i]\\n    a[l + n/2 + i] = tmp \\n'"
      ]
     },
     "metadata": {},
     "output_type": "display_data"
    }
   ],
   "source": [
    "''' \n",
    "function swapList(a, l, n):\n",
    "  for i = 0 to n/2:\n",
    "    tmp = a[l + i]\n",
    "    a[l + i] = a[l + n/2 + i]\n",
    "    a[l + n/2 + i] = tmp \n",
    "'''"
   ]
  },
  {
   "cell_type": "markdown",
   "metadata": {},
   "source": [
    "## 1) How much running time does it take to execute splitSwap(a, 0, n)? (We want a Big O analysis.)\n"
   ]
  },
  {
   "cell_type": "markdown",
   "metadata": {},
   "source": [
    "The main function **splitSwap(a, l, n)** is a recursive function which includes a subroutine **swapList(a, l, n)**, this subroutine takes as input an array $a$, an index $l$ and a length $n$.\n",
    "It performs a loop composed of $n/2$ cycles, each cycle performs steps with a complexity of **$O(1)$**.\n",
    "\n",
    "The total complexity of this subroutine, given the fact it is composed of $n/2$ steps, is then calculated as:\n",
    "\n",
    "**$O(n/2) = O(n)$**.\n",
    "\n",
    "Analysing the main function **splitSwap(a, l, n)**, we observe it is a recursive function which return in the case of $n=1$.\n",
    "\n",
    "In the case of $n>1$ it calls recursively itself two times as **splitSwap(a, l, n/2)** and **splitSwap(a, l+ n /2, n/2)**, it also execute the subroutine **swapList(a, l, n)**.\n",
    "\n",
    "We have two recursion and we can calculate the equation of the recurrence as: **$T(n) = 2*T(n/2) + O(n)$**.\n",
    "\n",
    "We can now, apply the second case of the Master Theorem, we obtain an overall complexity of **$O(log2(n) * n)$**.\n",
    "\n"
   ]
  },
  {
   "cell_type": "markdown",
   "metadata": {},
   "source": [
    "## 2) What does this algorithm do? Is it optimal? Describe the mechanism of the algorithm in details, we do not want to know only its final result."
   ]
  },
  {
   "cell_type": "markdown",
   "metadata": {},
   "source": [
    "\n",
    "The function **splitSwap(a, l, n)** is a recursive function, it takes as parameters an array **a**, an index **i** and a lenght **n**.\n",
    "It calls itself recursively two time as  **splitSwap(a, l, n/2)** and **splitSwap(a, l+ n /2, n/2)**, and then execute the subroutine **swapList(a, l, n)**.\n",
    "\n",
    "The subroutine **swapList(a, l, n)**, perform a loop in the range 0, $n/2$; swapping the element of the array with index $l+i$ with the element of the array with index $l + n/2 + i$.\n",
    "\n",
    "The base case of the **splitSwap(a, l, n)** is $n=1$, the function returns when the recursion reaches n=1, after performing an halving operation on n at each step.\n",
    "\n",
    "\n",
    "The Algorithm is not optimal because it can be further simplified to be linear with a complexity of **$O(n)$**."
   ]
  },
  {
   "cell_type": "markdown",
   "metadata": {},
   "source": [
    "### HINT: Consider the scenario where len(a) and n are numbers that are a power of 2."
   ]
  },
  {
   "cell_type": "markdown",
   "metadata": {},
   "source": [
    "# TQ3"
   ]
  },
  {
   "cell_type": "markdown",
   "metadata": {},
   "source": [
    "# In the knapsack problem we are given n objects and each object i has a weight w_i and a value v_i. We are also given a weight budget W. The problem is to select a set of objects with total weight bounded by W that maximized the sum of their values. The following are three natural heuristics:"
   ]
  },
  {
   "cell_type": "markdown",
   "metadata": {},
   "source": [
    "## Order them in increasing order of weight and then visit them sequentially, adding them to the solution as long as the budget is not exceeded"
   ]
  },
  {
   "cell_type": "markdown",
   "metadata": {},
   "source": [
    "Taken for example an array **$w = [(3,2), (5,5), (7,9)]$** of tuples **$(w_i, v_i)$** of length **$n = 3$**, where **$w_i$** stands for the weight that the objects has, and **$v_i$** its value.\n",
    "\n",
    "According to the heuristic the elements of the list selected where **$[(3,2), (5,5)]$** for a total weight of **$W_t = 3+5=8$** and a total value of **$V_t = 2+5=7$**.\n",
    "\n",
    "However the optimal solution is **$[(3,2), (7,9)]$**, for a total weight of **$W_t = 3+7=10$** and a total value of **$V_t = 2+9=11$**.\n",
    "\n",
    "This counterexample disproves the heuristic.\n",
    "\n",
    "\n",
    "\n",
    "\n",
    "Schematic representation:\n",
    "\n",
    "> W = 10\n",
    "\n",
    "> n = 3\n",
    "\n",
    "> w = [(3,2), (5,5), (7,9)]\n",
    "\n",
    "> Solution according to the heuristic: [(3,2), (5,5)] // W_tot = 3+5=8 // V_tot = 2+5=7\n",
    "\n",
    "> Optimal solution: [(3,2), (7,9)] // W_tot = 3+7=10 // V_tot = 2+9=11"
   ]
  },
  {
   "cell_type": "markdown",
   "metadata": {},
   "source": [
    "## Order them in decreasing order of values, and then visit them sequentially, adding them to the solution if the budget is not exceeded"
   ]
  },
  {
   "cell_type": "markdown",
   "metadata": {},
   "source": [
    "Taken for example an array **$w = [(7,8), (4,6), (3,5)]$** of tuples **$(w_i, v_i)$** of length **$n$**, where **$w_i$** stands for the weight that the objects has, and **$v_i$** its value.\n",
    "\n",
    "According to the heuristic the element of the list selected was **$[(7,8)]$** for a total weight of **$W_t = 7$** and a total value of **$V_t = 8$**.\n",
    "\n",
    "However the optimal solution is **$[(4,6), (3,5)]$**, for a total weight of **$W_t = 4+3=7$** and a total value of **$V_t = 6+5=11$**.\n",
    "\n",
    "This counterexample disproves the heuristic.\n",
    "\n",
    "\n",
    "\n",
    "\n",
    "Schematic representation:\n",
    "\n",
    "> W = 10\n",
    "\n",
    "> n = 3\n",
    "\n",
    "> w = [(7,8), (4,6), (3,5)]\n",
    "\n",
    "> Solution according to the heuristic: [(7,8)] // W_tot = 7 // V_tot = 8\n",
    "\n",
    "> Optimal solution: [(4,6), (3,5)] // W_tot = 4+3=7 // V_tot = 6+5=11"
   ]
  },
  {
   "cell_type": "markdown",
   "metadata": {},
   "source": [
    "### Order them in decreasing relative value (v_i / w_i), and then visit them sequentially, adding them to the solution if the budget is not exceeded"
   ]
  },
  {
   "cell_type": "markdown",
   "metadata": {},
   "source": [
    "Taken for example an array **$w = [(1, 5), (6, 5), (4, 3), (2, 1)]$** of tuples **$(w_i, v_i)$** of length **$n = 4$**, where **$w_i$** stands for the weight that the objects has, and **$v_i$** its value.\n",
    "\n",
    "According to the heuristic the elements of the list selected where **$[(1, 5), (6, 5)]$** for a total weight of **$W_t = 1+6=7$** and a total value of **$V_t = 5+5=10$**.\n",
    "\n",
    "However the optimal solution is **$[(4,6), (3,5)]$**, for a total weight of **$W_t = 1+6+2=9$** and a total value of **$V_t = 5+5+1=11$**.\n",
    "\n",
    "This counterexample disproves the heuristic.\n",
    "\n",
    "\n",
    "\n",
    "\n",
    "Schematic representation:\n",
    "\n",
    "\n",
    "\n",
    "> W = 10\n",
    "\n",
    "> n = 4\n",
    "\n",
    "> w = [(1, 5), (6, 5), (4, 3), (2, 1)] ====> 5/1 = 1.0 ; 5/6 = 0.83 ; 3/4 = 0.75 ; 1/2 = 0.5\n",
    "\n",
    "> Solution according to the heuristic: [(1, 5), (6, 5)] // W_tot = 1+6=7 // V_tot = 5+5=10\n",
    "\n",
    "> Optimal solution: [(1, 5), (6, 5), (2, 1)] // W_tot = 1+6+2=9 // V_tot = 5+5+1=11"
   ]
  },
  {
   "cell_type": "markdown",
   "metadata": {},
   "source": [
    "## For each of the heuristics, provide a counterexample, that is, an example of a problem instance in which the heuristic fails to provide the optimal solution."
   ]
  }
 ],
 "metadata": {
  "kernelspec": {
   "display_name": "Python 3",
   "language": "python",
   "name": "python3"
  },
  "language_info": {
   "codemirror_mode": {
    "name": "ipython",
    "version": 3
   },
   "file_extension": ".py",
   "mimetype": "text/x-python",
   "name": "python",
   "nbconvert_exporter": "python",
   "pygments_lexer": "ipython3",
   "version": "3.8.8"
  }
 },
 "nbformat": 4,
 "nbformat_minor": 5
}
